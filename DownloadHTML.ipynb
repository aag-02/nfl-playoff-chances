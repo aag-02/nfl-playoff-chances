{
 "cells": [
  {
   "cell_type": "code",
   "execution_count": 7,
   "id": "29e5e1be-4b07-484b-a6ac-2eccf1b47f9d",
   "metadata": {},
   "outputs": [],
   "source": [
    "import requests\n",
    "import numpy as np\n",
    "import pandas as pd\n",
    "from bs4 import BeautifulSoup as bs\n",
    "from selenium import webdriver\n",
    "import time\n",
    "import lxml.html as lx\n",
    "from lxml import html\n",
    "import csv\n",
    "from selenium.webdriver.chrome.service import Service"
   ]
  },
  {
   "cell_type": "code",
   "execution_count": 2,
   "id": "99eb7007-4667-41bb-bfea-9cc513096885",
   "metadata": {},
   "outputs": [],
   "source": [
    "def download_html(folder, url_start, startyear, endyear):\n",
    "    s=Service('/Users/arya/STA141B/Self-Project/chromedriver')\n",
    "    driver = webdriver.Chrome(service=s)\n",
    "    for year in range(startyear,endyear):\n",
    "        url = url_start.format(year)\n",
    "        driver.get(url)\n",
    "        driver.execute_script(\"window.scrollTo(1,10000)\")\n",
    "        time.sleep(1)\n",
    "        html = driver.page_source\n",
    "        with open(\"{}/{}.html\".format(folder,year), \"w+\") as f:\n",
    "            f.write(html)"
   ]
  },
  {
   "cell_type": "code",
   "execution_count": 11,
   "id": "2392f417",
   "metadata": {},
   "outputs": [
    {
     "data": {
      "text/plain": [
       "['crd',\n",
       " 'atl',\n",
       " 'rav',\n",
       " 'buf',\n",
       " 'car',\n",
       " 'chi',\n",
       " 'cin',\n",
       " 'cle',\n",
       " 'dal',\n",
       " 'den',\n",
       " 'det',\n",
       " 'gnb',\n",
       " 'clt',\n",
       " 'jax',\n",
       " 'kan',\n",
       " 'rai',\n",
       " 'sdg',\n",
       " 'ram',\n",
       " 'mia',\n",
       " 'min',\n",
       " 'nwe',\n",
       " 'nor',\n",
       " 'nyg',\n",
       " 'nyj',\n",
       " 'phi',\n",
       " 'pit',\n",
       " 'sfo',\n",
       " 'sea',\n",
       " 'tam',\n",
       " 'oti',\n",
       " 'was']"
      ]
     },
     "execution_count": 11,
     "metadata": {},
     "output_type": "execute_result"
    }
   ],
   "source": [
    "with open('pfr_nfl_teams.txt') as file:\n",
    "    data = file.read().splitlines()\n",
    "data = [x.strip(' ') for x in data]\n",
    "data"
   ]
  },
  {
   "cell_type": "markdown",
   "id": "7182bebe",
   "metadata": {},
   "source": [
    "### Download rosters HTML"
   ]
  },
  {
   "cell_type": "code",
   "execution_count": 9,
   "id": "52c94ef5",
   "metadata": {},
   "outputs": [],
   "source": [
    "s=Service('/Users/arya/STA141B/Self-Project/chromedriver')\n",
    "driver = webdriver.Chrome(service=s)\n",
    "for year in range(2000,2023):\n",
    "    for team in data:\n",
    "        url = 'https://www.pro-football-reference.com/teams/{}/{}_roster.htm'.format(team,year)\n",
    "        driver.get(url)\n",
    "        driver.execute_script(\"window.scrollTo(1,10000)\")\n",
    "        time.sleep(1)\n",
    "        html = driver.page_source\n",
    "        with open(\"rosters/{}{}.html\".format(team,year), \"w+\") as f:\n",
    "            f.write(html)"
   ]
  },
  {
   "cell_type": "markdown",
   "id": "67c6bcc8",
   "metadata": {},
   "source": [
    "### Download HTML for various stats and records"
   ]
  },
  {
   "cell_type": "code",
   "execution_count": null,
   "id": "1cbc86ce",
   "metadata": {},
   "outputs": [],
   "source": [
    "download_html('passingstats', 'https://www.pro-football-reference.com/years/{}/passing.htm', 2000,2023)"
   ]
  },
  {
   "cell_type": "code",
   "execution_count": null,
   "id": "ac4edc34-213d-45fc-8fca-3063600dc4e0",
   "metadata": {},
   "outputs": [],
   "source": [
    "download_html('rushingstats', 'https://www.pro-football-reference.com/years/{}/rushing.htm', 2000,2023)"
   ]
  },
  {
   "cell_type": "code",
   "execution_count": null,
   "id": "2f4b4d8d-c5a5-4883-98b8-cfe29a56cf55",
   "metadata": {},
   "outputs": [],
   "source": [
    "download_html('receivingstats', 'https://www.pro-football-reference.com/years/{}/receiving.htm', 2000,2023)"
   ]
  },
  {
   "cell_type": "code",
   "execution_count": null,
   "id": "06a7353f",
   "metadata": {},
   "outputs": [],
   "source": [
    "download_html('defense', 'https://www.pro-football-reference.com/years/{}/opp.htm', 2000,2023)"
   ]
  },
  {
   "cell_type": "code",
   "execution_count": null,
   "id": "a62c1dca-29c4-4c29-8774-83c3fad549e6",
   "metadata": {},
   "outputs": [],
   "source": [
    "download_html('probowl', 'https://www.pro-football-reference.com/years/{}/probowl.htm', 2000,2023)"
   ]
  },
  {
   "cell_type": "code",
   "execution_count": null,
   "id": "aa6234b1",
   "metadata": {},
   "outputs": [],
   "source": [
    "download_html('playoffs', 'https://www.pro-football-reference.com/years/{}/playoffs.htm', 2002,2023)"
   ]
  },
  {
   "cell_type": "code",
   "execution_count": null,
   "id": "01ed89f5",
   "metadata": {},
   "outputs": [],
   "source": [
    "download_html('standings', 'https://www.pro-football-reference.com/years/{}/index.htm', 2000,2023)"
   ]
  },
  {
   "cell_type": "code",
   "execution_count": null,
   "id": "249f748f",
   "metadata": {},
   "outputs": [],
   "source": [
    "download_html('all_pro', 'https://www.pro-football-reference.com/years/{}/allpro.htm', 2000,2023)"
   ]
  }
 ],
 "metadata": {
  "kernelspec": {
   "display_name": "Python 3 (ipykernel)",
   "language": "python",
   "name": "python3"
  },
  "language_info": {
   "codemirror_mode": {
    "name": "ipython",
    "version": 3
   },
   "file_extension": ".py",
   "mimetype": "text/x-python",
   "name": "python",
   "nbconvert_exporter": "python",
   "pygments_lexer": "ipython3",
   "version": "3.9.13"
  }
 },
 "nbformat": 4,
 "nbformat_minor": 5
}
